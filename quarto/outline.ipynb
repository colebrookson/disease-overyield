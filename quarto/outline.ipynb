{
  "cells": [
    {
      "cell_type": "raw",
      "metadata": {},
      "source": [
        "---\n",
        "title: Mini-rotations - Trophic overyielding and infection dynamics\n",
        "format:\n",
        "  pdf:\n",
        "    toc: true\n",
        "    number-sections: true\n",
        "    colorlinks: true\n",
        "author:\n",
        "  - name: Cole Brookson\n",
        "abstract: |\n",
        "  Working through ideas for the mini-rotations project\n",
        "date: last-modified\n",
        "bibliography: references.bib\n",
        "citation:\n",
        "  container-title: Earth and Space Science\n",
        "number-sections: true\n",
        "---"
      ],
      "id": "10c78c53"
    },
    {
      "cell_type": "markdown",
      "metadata": {},
      "source": [
        "We start from the assumption of two species competing, in a Lotka-Volterra model. We use the form of Abrams (2022, pg. 39), which replaces inter- and intra-specific competition terms so that each species has a neutral parameter, $\\alpha$. We then have\n",
        "\n",
        "$$\n",
        "\\begin{equation}\n",
        "\\label{eqn:simple-lv}\n",
        "\n",
        "\\frac{dN_1}{dt} = N_1(r_1 - \\alpha_{11}N_1 - \\alpha_{12}N2)\n",
        "\\frac{dN_2}{dt} = N_2(r_2 - \\alpha_{21}N_1 - \\alpha_{22}N2)\n",
        "\n",
        "\\end{eqeuation}\n",
        "$$\n",
        "\n",
        "Since we are also ultimately interested \n",
        "\n",
        "NOTES:\n",
        "\n",
        "1.  Maybe interesting to actually use the ones with inter- and intra-specific competition so we can have the within-species term have some additional dynamics with respect to the infected organisms being out-competed by their susceptible conspecifics?"
      ],
      "id": "aafedb78"
    }
  ],
  "metadata": {
    "kernelspec": {
      "name": "julia-1.10",
      "language": "julia",
      "display_name": "Julia 1.10.2"
    }
  },
  "nbformat": 4,
  "nbformat_minor": 5
}