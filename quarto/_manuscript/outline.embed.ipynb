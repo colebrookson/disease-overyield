{
 "cells": [
  {
   "cell_type": "markdown",
   "metadata": {},
   "source": [
    "# Mini-rotations - Trophic overyielding and infection dynamics\n",
    "\n",
    "Cole Brookson  \n",
    "April 4, 2024\n",
    "\n",
    "Working through ideas for the mini-rotations project"
   ],
   "id": "d4f3d7c4-a42f-4620-8bf1-2a86b8713708"
  }
 ],
 "nbformat": 4,
 "nbformat_minor": 5,
 "metadata": {}
}
